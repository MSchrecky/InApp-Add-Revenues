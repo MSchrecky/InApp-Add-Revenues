{
 "cells": [
  {
   "cell_type": "code",
   "execution_count": 14,
   "metadata": {},
   "outputs": [],
   "source": [
    "# In the code cell below, we:\n",
    "\n",
    "# Open the AppleStore.csv file using the open() function, and assign the output to a variable named opened_file\n",
    "# Import the reader() function from the csv module\n",
    "# Read in the opened file using the reader() function, and assign the output to a variable named read_file\n",
    "# Transform the read-in file to a list of lists using list() and save it to a variable named apps_data\n",
    "# Display the header row and the first three rows of the data set.\n",
    "\n",
    "# Open ToDos: Include header off cleaned google data"
   ]
  },
  {
   "cell_type": "code",
   "execution_count": 15,
   "metadata": {},
   "outputs": [],
   "source": [
    "opened_file = open('AppleStore.csv', encoding=\"utf8\")\n",
    "from csv import reader\n",
    "read_file = reader(opened_file)\n",
    "apple_data = list(read_file)\n",
    "opened_file.close()\n",
    "\n",
    "opened_file = open('googleplaystore.csv', encoding=\"utf8\")\n",
    "from csv import reader\n",
    "read_file = reader(opened_file)\n",
    "google_data = list(read_file)\n",
    "opened_file.close()"
   ]
  },
  {
   "cell_type": "code",
   "execution_count": 16,
   "metadata": {},
   "outputs": [],
   "source": [
    "def explore_data(dataset, start, end, rows_and_columns=False):\n",
    "    dataset_slice = dataset[start:end]    \n",
    "    for row in dataset_slice:\n",
    "        print(row)\n",
    "        print('\\n') # adds a new (empty) line after each row\n",
    "\n",
    "    if rows_and_columns:\n",
    "        print('Number of rows:', len(dataset))\n",
    "        print('Number of columns:', len(dataset[0]))"
   ]
  },
  {
   "cell_type": "code",
   "execution_count": 17,
   "metadata": {},
   "outputs": [
    {
     "name": "stdout",
     "output_type": "stream",
     "text": [
      "['App', 'Category', 'Rating', 'Reviews', 'Size', 'Installs', 'Type', 'Price', 'Content Rating', 'Genres', 'Last Updated', 'Current Ver', 'Android Ver']\n",
      "\n",
      "\n",
      "['Photo Editor & Candy Camera & Grid & ScrapBook', 'ART_AND_DESIGN', '4.1', '159', '19M', '10,000+', 'Free', '0', 'Everyone', 'Art & Design', 'January 7, 2018', '1.0.0', '4.0.3 and up']\n",
      "\n",
      "\n",
      "['Coloring book moana', 'ART_AND_DESIGN', '3.9', '967', '14M', '500,000+', 'Free', '0', 'Everyone', 'Art & Design;Pretend Play', 'January 15, 2018', '2.0.0', '4.0.3 and up']\n",
      "\n",
      "\n",
      "['U Launcher Lite – FREE Live Cool Themes, Hide Apps', 'ART_AND_DESIGN', '4.7', '87510', '8.7M', '5,000,000+', 'Free', '0', 'Everyone', 'Art & Design', 'August 1, 2018', '1.2.4', '4.0.3 and up']\n",
      "\n",
      "\n",
      "Number of rows: 10842\n",
      "Number of columns: 13\n",
      "13\n"
     ]
    }
   ],
   "source": [
    "#explore_data(apple_data,0,4, True)\n",
    "explore_data(google_data,0,4, True)\n",
    "print(len(google_data[0]))"
   ]
  },
  {
   "cell_type": "code",
   "execution_count": 18,
   "metadata": {},
   "outputs": [
    {
     "name": "stdout",
     "output_type": "stream",
     "text": [
      "['Life Made WI-Fi Touchscreen Photo Frame', '1.9', '19', '3.0M', '1,000+', 'Free', '0', 'Everyone', '', 'February 11, 2018', '1.0.19', '4.0 and up']\n",
      "10473\n",
      "['osmino Wi-Fi: free WiFi', 'TOOLS', '4.2', '134203', '4.1M', '10,000,000+', 'Free', '0', 'Everyone', 'Tools', 'August 7, 2018', '6.06.14', '4.4 and up']\n"
     ]
    }
   ],
   "source": [
    "#Checking for mistakes such as missing list entries\n",
    "google_header_length = len(google_data[0])\n",
    "for row in google_data:\n",
    "    row_length = len(row)\n",
    "    if row_length != google_header_length:\n",
    "        print(row)\n",
    "        print(google_data.index(row))\n",
    "\n",
    "# Either delete this row\n",
    "del google_data[10473]\n",
    "\n",
    "# Or edit the missing Genre, as seen in other examples when exploring the data\n",
    "#google_data[10473][8] = 'Art & Design'\n",
    "print(google_data[10473])"
   ]
  },
  {
   "cell_type": "code",
   "execution_count": 19,
   "metadata": {},
   "outputs": [
    {
     "name": "stdout",
     "output_type": "stream",
     "text": [
      "Number of duplicate apps: 1181\n",
      "\n",
      "\n",
      "Examples of duplicate apps: ['Quick PDF Scanner + OCR FREE', 'Box', 'Google My Business', 'ZOOM Cloud Meetings', 'join.me - Simple Meetings']\n"
     ]
    }
   ],
   "source": [
    "# Checking for mistakes such as duplicative list entries\n",
    "duplicate_apps = []\n",
    "unique_apps = []\n",
    "for app in google_data[0:]:\n",
    "    name = str(app[0])\n",
    "    if name not in unique_apps:\n",
    "        unique_apps.append(name)\n",
    "    elif name in unique_apps:\n",
    "        duplicate_apps.append(name)\n",
    "print('Number of duplicate apps:',len(duplicate_apps))\n",
    "print('\\n')\n",
    "print('Examples of duplicate apps:',duplicate_apps[0:5])"
   ]
  },
  {
   "cell_type": "code",
   "execution_count": 28,
   "metadata": {},
   "outputs": [
    {
     "name": "stdout",
     "output_type": "stream",
     "text": [
      "['Instagram', 'SOCIAL', '4.5', '66577313', 'Varies with device', '1,000,000,000+', 'Free', '0', 'Teen', 'Social', 'July 31, 2018', 'Varies with device', 'Varies with device']\n",
      "['Instagram', 'SOCIAL', '4.5', '66577446', 'Varies with device', '1,000,000,000+', 'Free', '0', 'Teen', 'Social', 'July 31, 2018', 'Varies with device', 'Varies with device']\n",
      "['Instagram', 'SOCIAL', '4.5', '66577313', 'Varies with device', '1,000,000,000+', 'Free', '0', 'Teen', 'Social', 'July 31, 2018', 'Varies with device', 'Varies with device']\n",
      "['Instagram', 'SOCIAL', '4.5', '66509917', 'Varies with device', '1,000,000,000+', 'Free', '0', 'Teen', 'Social', 'July 31, 2018', 'Varies with device', 'Varies with device']\n"
     ]
    }
   ],
   "source": [
    "# The duplicates we see have a different amount of ratings. To have a unique list of apps we will remove all but the latest list entry of the duplicate apps. \n",
    "# This goes with the assumption that the latest entry is the one with the most ratings\n",
    "# Example of different time stamps\n",
    "for app in google_data[0:]:\n",
    "    name = str(app[0])\n",
    "    if name == 'Instagram':\n",
    "        print(app)\n",
    "        \n",
    "# Help fuction pass\n",
    "# Correct way of writing empty function  \n",
    "def fun():  \n",
    "    pass\n",
    "\n",
    "# Now we will remove those by creating a dictionary with the name of the duplicate app and the highest number of reviews\n",
    "reviews_max = {}\n",
    "cleaned_google_data = []\n",
    "#cleaned_google_data.append(google_data[0:1])\n",
    "for app in google_data[1:]:\n",
    "    name_row = str(app[0])\n",
    "    n_reviews = float(app[3])\n",
    "    if name_row not in duplicate_apps:\n",
    "        cleaned_google_data.append(app)\n",
    "    else:\n",
    "        if name_row in reviews_max and reviews_max[name_row] < n_reviews:\n",
    "            reviews_max[name_row] = n_reviews\n",
    "        elif name_row not in reviews_max:\n",
    "            reviews_max[name_row] = n_reviews\n",
    "        else:\n",
    "            pass\n",
    "\n"
   ]
  },
  {
   "cell_type": "code",
   "execution_count": 29,
   "metadata": {},
   "outputs": [],
   "source": [
    "# We take this dictionary (name of the duplicate app and the highest number of reviews) to add these entries from the original google_data to the cleaned_google_data\n",
    "for key in reviews_max:\n",
    "    n_reviews_max = reviews_max[key]\n",
    "    name_max = key\n",
    "    for app in google_data[1:]:\n",
    "        name_row = str(app[0])\n",
    "        n_reviews = float(app[3])\n",
    "        if name_max == name_row and n_reviews_max == n_reviews and name_row not in cleaned_google_data:\n",
    "            cleaned_google_data.append(app)\n",
    "            #print(app)"
   ]
  },
  {
   "cell_type": "code",
   "execution_count": 30,
   "metadata": {},
   "outputs": [
    {
     "name": "stdout",
     "output_type": "stream",
     "text": [
      "Number of duplicate apps which have been removed for cleaned data set: 1089\n",
      "\n",
      "\n",
      "Examples of duplicate apps: ['Google Ads', 'Slack', 'OfficeSuite : Free Office + PDF Editor', 'Slack', 'Messenger – Text and Video Chat for Free']\n"
     ]
    }
   ],
   "source": [
    "# Checking for mistakes in the CLEANED Data and deleting these items (since they are absolutely identical now)\n",
    "duplicate_apps = []\n",
    "unique_apps = []\n",
    "remover = []\n",
    "for app in cleaned_google_data[0:]:\n",
    "    name = str(app[0])\n",
    "    remover = app\n",
    "    if name not in unique_apps:\n",
    "        unique_apps.append(name)\n",
    "    elif name in unique_apps:\n",
    "        cleaned_google_data.remove(remover)\n",
    "        duplicate_apps.append(name)\n",
    "print('Number of duplicate apps which have been removed for cleaned data set:',len(duplicate_apps))\n",
    "print('\\n')\n",
    "print('Examples of duplicate apps:',duplicate_apps[0:5])"
   ]
  },
  {
   "cell_type": "code",
   "execution_count": 31,
   "metadata": {},
   "outputs": [
    {
     "name": "stdout",
     "output_type": "stream",
     "text": [
      "['Ebook Reader', 'BOOKS_AND_REFERENCE', '4.1', '85842', '37M', '5,000,000+', 'Free', '0', 'Everyone', 'Books & Reference', 'June 25, 2018', '5.0.6', '4.0 and up']\n",
      "159872.0\n"
     ]
    }
   ],
   "source": [
    "# Double Checking with examples if the duplicates have been deleted\n",
    "for app in cleaned_google_data[0:]:\n",
    "    name = str(app[0])\n",
    "    if name == 'Ebook Reader':\n",
    "        print(app)\n",
    "print(reviews_max['Box'])"
   ]
  },
  {
   "cell_type": "code",
   "execution_count": 32,
   "metadata": {},
   "outputs": [
    {
     "name": "stdout",
     "output_type": "stream",
     "text": [
      "['Photo Editor & Candy Camera & Grid & ScrapBook', 'ART_AND_DESIGN', '4.1', '159', '19M', '10,000+', 'Free', '0', 'Everyone', 'Art & Design', 'January 7, 2018', '1.0.0', '4.0.3 and up']\n",
      "\n",
      "\n",
      "['Coloring book moana', 'ART_AND_DESIGN', '3.9', '967', '14M', '500,000+', 'Free', '0', 'Everyone', 'Art & Design;Pretend Play', 'January 15, 2018', '2.0.0', '4.0.3 and up']\n",
      "\n",
      "\n",
      "['U Launcher Lite – FREE Live Cool Themes, Hide Apps', 'ART_AND_DESIGN', '4.7', '87510', '8.7M', '5,000,000+', 'Free', '0', 'Everyone', 'Art & Design', 'August 1, 2018', '1.2.4', '4.0.3 and up']\n",
      "\n",
      "\n",
      "['Sketch - Draw & Paint', 'ART_AND_DESIGN', '4.5', '215644', '25M', '50,000,000+', 'Free', '0', 'Teen', 'Art & Design', 'June 8, 2018', 'Varies with device', '4.2 and up']\n",
      "\n",
      "\n",
      "Number of rows: 9659\n",
      "Number of columns: 13\n"
     ]
    }
   ],
   "source": [
    "# Exploring the cleaned data\n",
    "explore_data(cleaned_google_data,0,4, True)\n",
    "# Form the discussion threads in the forum the correct of rows and column is 9659 and 13"
   ]
  },
  {
   "cell_type": "code",
   "execution_count": 34,
   "metadata": {},
   "outputs": [],
   "source": [
    "# Remove non english apps from data set\n",
    "# Function for detecting non-english strings, gives False if non english characters are used\n",
    "def is_english(string):\n",
    "    non_ascii = 0\n",
    "    \n",
    "    for character in string:\n",
    "        if ord(character) > 127:\n",
    "            non_ascii += 1\n",
    "    \n",
    "    if non_ascii > 3:\n",
    "        return False\n",
    "    else:\n",
    "        return True\n",
    "    \n",
    "    \n",
    "# Now creating for new english-only data sets\n",
    "english_cleaned_google_data = []\n",
    "for app in cleaned_google_data:\n",
    "    name = app[0]\n",
    "    if is_english(name):\n",
    "        english_cleaned_google_data.append(app)\n",
    "\n",
    "english_apple_data = []\n",
    "for app in apple_data:\n",
    "    name = app[1]\n",
    "    if is_english(name):\n",
    "        english_apple_data.append(app)\n",
    "        \n",
    "# explore_data(english_cleaned_google_data, 0, 3, True)\n",
    "# print('\\n')\n",
    "# explore_data(english_apple_data, 0, 3, True)"
   ]
  },
  {
   "cell_type": "code",
   "execution_count": null,
   "metadata": {},
   "outputs": [],
   "source": []
  },
  {
   "cell_type": "code",
   "execution_count": 35,
   "metadata": {},
   "outputs": [
    {
     "name": "stdout",
     "output_type": "stream",
     "text": [
      "['Photo Editor & Candy Camera & Grid & ScrapBook', 'ART_AND_DESIGN', '4.1', '159', '19M', '10,000+', 'Free', '0', 'Everyone', 'Art & Design', 'January 7, 2018', '1.0.0', '4.0.3 and up']\n",
      "\n",
      "\n",
      "['Coloring book moana', 'ART_AND_DESIGN', '3.9', '967', '14M', '500,000+', 'Free', '0', 'Everyone', 'Art & Design;Pretend Play', 'January 15, 2018', '2.0.0', '4.0.3 and up']\n",
      "\n",
      "\n",
      "['U Launcher Lite – FREE Live Cool Themes, Hide Apps', 'ART_AND_DESIGN', '4.7', '87510', '8.7M', '5,000,000+', 'Free', '0', 'Everyone', 'Art & Design', 'August 1, 2018', '1.2.4', '4.0.3 and up']\n",
      "\n",
      "\n",
      "Number of rows: 8861\n",
      "Number of columns: 13\n",
      "\n",
      "\n",
      "['284882215', 'Facebook', '389879808', 'USD', '0.0', '2974676', '212', '3.5', '3.5', '95.0', '4+', 'Social Networking', '37', '1', '29', '1']\n",
      "\n",
      "\n",
      "['389801252', 'Instagram', '113954816', 'USD', '0.0', '2161558', '1289', '4.5', '4.0', '10.23', '12+', 'Photo & Video', '37', '0', '29', '1']\n",
      "\n",
      "\n",
      "['529479190', 'Clash of Clans', '116476928', 'USD', '0.0', '2130805', '579', '4.5', '4.5', '9.24.12', '9+', 'Games', '38', '5', '18', '1']\n",
      "\n",
      "\n",
      "Number of rows: 3222\n",
      "Number of columns: 16\n"
     ]
    }
   ],
   "source": [
    "# In the next step we filter paid-apps out, to leave us with only free apps\n",
    "free_english_cleaned_google_data = []\n",
    "for app in english_cleaned_google_data:\n",
    "    price = str(app[6])\n",
    "    if price == 'Free' or price == 'free':\n",
    "        free_english_cleaned_google_data.append(app)\n",
    "    else:\n",
    "        pass\n",
    "\n",
    "free_english_apple_data = []\n",
    "for app in english_apple_data[1:]:\n",
    "    price = float(app[4])\n",
    "    if price == 0:\n",
    "        free_english_apple_data.append(app)\n",
    "    else:\n",
    "        pass\n",
    "    \n",
    "explore_data(free_english_cleaned_google_data, 0, 3, True)\n",
    "print('\\n')\n",
    "explore_data(free_english_apple_data, 0, 3, True)"
   ]
  },
  {
   "cell_type": "code",
   "execution_count": null,
   "metadata": {},
   "outputs": [],
   "source": [
    "# As we mentioned in the introduction, our aim is to determine the kinds of apps that are likely to attract more users because our revenue is highly influenced by the number of people using our apps.\n",
    "# To minimize risks and overhead, our validation strategy for an app idea is comprised of three steps:\n",
    "# 1) Build a minimal Android version of the app, and add it to Google Play.\n",
    "# 2) If the app has a good response from users, we develop it further.\n",
    "# 3) If the app is profitable after six months, we build an iOS version of the app and add it to the App Store."
   ]
  },
  {
   "cell_type": "code",
   "execution_count": null,
   "metadata": {},
   "outputs": [],
   "source": []
  }
 ],
 "metadata": {
  "kernelspec": {
   "display_name": "Python 3",
   "language": "python",
   "name": "python3"
  },
  "language_info": {
   "codemirror_mode": {
    "name": "ipython",
    "version": 3
   },
   "file_extension": ".py",
   "mimetype": "text/x-python",
   "name": "python",
   "nbconvert_exporter": "python",
   "pygments_lexer": "ipython3",
   "version": "3.8.5"
  }
 },
 "nbformat": 4,
 "nbformat_minor": 4
}
